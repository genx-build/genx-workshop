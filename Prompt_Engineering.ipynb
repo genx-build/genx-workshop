{
  "nbformat": 4,
  "nbformat_minor": 0,
  "metadata": {
    "colab": {
      "provenance": []
    },
    "kernelspec": {
      "name": "python3",
      "display_name": "Python 3"
    },
    "language_info": {
      "name": "python"
    }
  },
  "cells": [
    {
      "cell_type": "markdown",
      "source": [
        "# Prompt Engineering"
      ],
      "metadata": {
        "id": "1TXI3oSR_mob"
      }
    },
    {
      "cell_type": "markdown",
      "source": [
        "\n",
        "In the course of this tutorial, we will be employing the OpenAI API for Python. Nevertheless, it is important to note that this package is not pre-installed in Colab by default. Therefore, upon your initial usage of the notebook, it becomes necessary to install the package."
      ],
      "metadata": {
        "id": "EGAvGqGY_9Tv"
      }
    },
    {
      "cell_type": "code",
      "source": [
        "! pip install openai"
      ],
      "metadata": {
        "colab": {
          "base_uri": "https://localhost:8080/"
        },
        "id": "YbNbt5zA-ewm",
        "outputId": "e0ce8252-31a1-4263-cb96-7622c388d379"
      },
      "execution_count": 1,
      "outputs": [
        {
          "output_type": "stream",
          "name": "stdout",
          "text": [
            "Collecting openai\n",
            "  Downloading openai-0.27.8-py3-none-any.whl (73 kB)\n",
            "\u001b[?25l     \u001b[90m━━━━━━━━━━━━━━━━━━━━━━━━━━━━━━━━━━━━━━━━\u001b[0m \u001b[32m0.0/73.6 kB\u001b[0m \u001b[31m?\u001b[0m eta \u001b[36m-:--:--\u001b[0m\r\u001b[2K     \u001b[91m━━━━━━━━━━━━━━━━━━━━━━━━━━━━━━━━━━━━━━\u001b[0m\u001b[91m╸\u001b[0m\u001b[90m━\u001b[0m \u001b[32m71.7/73.6 kB\u001b[0m \u001b[31m2.3 MB/s\u001b[0m eta \u001b[36m0:00:01\u001b[0m\r\u001b[2K     \u001b[90m━━━━━━━━━━━━━━━━━━━━━━━━━━━━━━━━━━━━━━━━\u001b[0m \u001b[32m73.6/73.6 kB\u001b[0m \u001b[31m1.7 MB/s\u001b[0m eta \u001b[36m0:00:00\u001b[0m\n",
            "\u001b[?25hRequirement already satisfied: requests>=2.20 in /usr/local/lib/python3.10/dist-packages (from openai) (2.31.0)\n",
            "Requirement already satisfied: tqdm in /usr/local/lib/python3.10/dist-packages (from openai) (4.66.1)\n",
            "Requirement already satisfied: aiohttp in /usr/local/lib/python3.10/dist-packages (from openai) (3.8.5)\n",
            "Requirement already satisfied: charset-normalizer<4,>=2 in /usr/local/lib/python3.10/dist-packages (from requests>=2.20->openai) (3.2.0)\n",
            "Requirement already satisfied: idna<4,>=2.5 in /usr/local/lib/python3.10/dist-packages (from requests>=2.20->openai) (3.4)\n",
            "Requirement already satisfied: urllib3<3,>=1.21.1 in /usr/local/lib/python3.10/dist-packages (from requests>=2.20->openai) (2.0.4)\n",
            "Requirement already satisfied: certifi>=2017.4.17 in /usr/local/lib/python3.10/dist-packages (from requests>=2.20->openai) (2023.7.22)\n",
            "Requirement already satisfied: attrs>=17.3.0 in /usr/local/lib/python3.10/dist-packages (from aiohttp->openai) (23.1.0)\n",
            "Requirement already satisfied: multidict<7.0,>=4.5 in /usr/local/lib/python3.10/dist-packages (from aiohttp->openai) (6.0.4)\n",
            "Requirement already satisfied: async-timeout<5.0,>=4.0.0a3 in /usr/local/lib/python3.10/dist-packages (from aiohttp->openai) (4.0.3)\n",
            "Requirement already satisfied: yarl<2.0,>=1.0 in /usr/local/lib/python3.10/dist-packages (from aiohttp->openai) (1.9.2)\n",
            "Requirement already satisfied: frozenlist>=1.1.1 in /usr/local/lib/python3.10/dist-packages (from aiohttp->openai) (1.4.0)\n",
            "Requirement already satisfied: aiosignal>=1.1.2 in /usr/local/lib/python3.10/dist-packages (from aiohttp->openai) (1.3.1)\n",
            "Installing collected packages: openai\n",
            "Successfully installed openai-0.27.8\n"
          ]
        }
      ]
    },
    {
      "cell_type": "markdown",
      "source": [
        "\n",
        "To facilitate the submission of prompts to ChatGPT through a Python script, it is imperative to acquire an OpenAI key from the OpenAI website."
      ],
      "metadata": {
        "id": "rH4Jb_skAcrt"
      }
    },
    {
      "cell_type": "code",
      "source": [
        "from google.colab import drive\n",
        "drive.mount('/content/drive')"
      ],
      "metadata": {
        "colab": {
          "base_uri": "https://localhost:8080/"
        },
        "id": "V_YJ-Il_5Yu5",
        "outputId": "0b9fbadc-1b56-4cb3-e93d-4382dd396c0e"
      },
      "execution_count": 2,
      "outputs": [
        {
          "output_type": "stream",
          "name": "stdout",
          "text": [
            "Mounted at /content/drive\n"
          ]
        }
      ]
    },
    {
      "cell_type": "code",
      "source": [
        "import os\n",
        "\n",
        "with open('/content/drive/MyDrive/openAiKey.txt') as key_file:\n",
        "  os.environ[\"OPENAI_API_KEY\"] = key_file.readlines()[0]"
      ],
      "metadata": {
        "id": "axs97Mz866iS"
      },
      "execution_count": 7,
      "outputs": []
    },
    {
      "cell_type": "code",
      "execution_count": 8,
      "metadata": {
        "id": "xyTKanbY-Qvz"
      },
      "outputs": [],
      "source": [
        "import openai\n",
        "import os\n",
        "\n",
        "openai.api_key = os.environ.get(\"OPENAI_API_KEY\")"
      ]
    },
    {
      "cell_type": "code",
      "source": [
        "def get_completion(prompt, model=\"gpt-3.5-turbo\"):\n",
        "    messages = [{\"role\": \"user\", \"content\": prompt}]\n",
        "    response = openai.ChatCompletion.create(\n",
        "        model=model,\n",
        "        messages=messages,\n",
        "        temperature=0, # this is the degree of randomness of the model's output\n",
        "    )\n",
        "    return response.choices[0].message[\"content\"]"
      ],
      "metadata": {
        "id": "hQxKggRa-vgz"
      },
      "execution_count": 9,
      "outputs": []
    },
    {
      "cell_type": "markdown",
      "source": [
        "## What are prompts\n",
        "---\n",
        "When utilizing instructional LLM models such as ChatGPT, it is essential to supply prompts. Prompts consist of strings that communicate to the language model the intended actions. Occasionally, these prompts are referred to as 'commands'. You can analogize ChatGPT to a computer and liken prompts to a programming language. ChatGPT possesses substantial capabilities similar to a computer, but akin to coding in a programming language, it is imperative to precisely delineate your desired outcomes in a methodical, algorithmic, and step-by-step manner."
      ],
      "metadata": {
        "id": "zYnoMD8y_JR0"
      }
    },
    {
      "cell_type": "markdown",
      "source": [
        "## Guidelines for Crafting Effective Prompts\n",
        "---\n",
        "\n",
        "There are several key points that you should keep in mind when crafting prompts:\n",
        "\n",
        "1. Precision is crucial when identifying segments of the prompt that comprise input data. Delimiters can take various forms such as ```, \"\"\", < >, `<tag> </tag>`, or `:`.\n",
        "\n",
        "2. Language Models (LLMs) possess the capability to yield outputs in desired formats, including but not limited to HTML and JSON. It is advisable to capitalize on this feature.\n",
        "\n",
        "3. LLMs are equipped with the ability to validate certain conditions within the input. Consequently, you can leverage this functionality to ensure the presence of specific requirements in the input.\n",
        "\n",
        "4. LLMs demonstrate a remarkable capability referred to as in-context learning, enabling them to acquire proficiency in a task by assimilating a limited number of examples."
      ],
      "metadata": {
        "id": "4EExeC7HsFYY"
      }
    },
    {
      "cell_type": "markdown",
      "source": [
        "### Be Specific"
      ],
      "metadata": {
        "id": "3gIFU4t6z1Vg"
      }
    },
    {
      "cell_type": "code",
      "source": [
        "# 1. Be Specific\n",
        "\n",
        "text = f\"\"\"\n",
        "You should express what you want a model to do by \\\n",
        "providing instructions that are as clear and \\\n",
        "specific as you can possibly make them. \\\n",
        "This will guide the model towards the desired output, \\\n",
        "and reduce the chances of receiving irrelevant \\\n",
        "or incorrect responses. Don't confuse writing a \\\n",
        "clear prompt with writing a short prompt. \\\n",
        "In many cases, longer prompts provide more clarity \\\n",
        "and context for the model, which can lead to \\\n",
        "more detailed and relevant outputs.\n",
        "\"\"\"\n",
        "prompt = f\"\"\"\n",
        "Summarize the text delimited by triple backticks \\\n",
        "into a single sentence.\n",
        "```{text}```\n",
        "\"\"\"\n",
        "response = get_completion(prompt)\n",
        "print(response)"
      ],
      "metadata": {
        "colab": {
          "base_uri": "https://localhost:8080/"
        },
        "id": "ls84DOSQ-v_l",
        "outputId": "feca38ef-7135-4c93-9f8b-f382c6e1027f"
      },
      "execution_count": 10,
      "outputs": [
        {
          "output_type": "stream",
          "name": "stdout",
          "text": [
            "To guide a model towards the desired output and minimize irrelevant or incorrect responses, it is important to provide clear and specific instructions, even if it means writing longer prompts that offer more clarity and context.\n"
          ]
        }
      ]
    },
    {
      "cell_type": "markdown",
      "source": [
        "### Specify Output Formats"
      ],
      "metadata": {
        "id": "x5M68GCxz4VR"
      }
    },
    {
      "cell_type": "code",
      "source": [
        "# 2. Specify output formats\n",
        "\n",
        "prompt = f\"\"\"\n",
        "Generate a list of three made-up people information \\\n",
        "along with their name, surname, gender, national-id and zip-code.\n",
        "Provide them in JSON format with the following keys:\n",
        "person_id, name, surname, gender, national_id, zip_code.\n",
        "\"\"\"\n",
        "response = get_completion(prompt)\n",
        "print(response)"
      ],
      "metadata": {
        "colab": {
          "base_uri": "https://localhost:8080/"
        },
        "id": "ecEoes_9-wCz",
        "outputId": "e0222e7d-7873-4044-b8b8-386de2ce7979"
      },
      "execution_count": null,
      "outputs": [
        {
          "output_type": "stream",
          "name": "stdout",
          "text": [
            "{\n",
            "  \"person_id\": 1,\n",
            "  \"name\": \"John\",\n",
            "  \"surname\": \"Doe\",\n",
            "  \"gender\": \"Male\",\n",
            "  \"national_id\": \"123456789\",\n",
            "  \"zip_code\": \"12345\"\n",
            "},\n",
            "{\n",
            "  \"person_id\": 2,\n",
            "  \"name\": \"Jane\",\n",
            "  \"surname\": \"Smith\",\n",
            "  \"gender\": \"Female\",\n",
            "  \"national_id\": \"987654321\",\n",
            "  \"zip_code\": \"54321\"\n",
            "},\n",
            "{\n",
            "  \"person_id\": 3,\n",
            "  \"name\": \"Alex\",\n",
            "  \"surname\": \"Johnson\",\n",
            "  \"gender\": \"Male\",\n",
            "  \"national_id\": \"456789123\",\n",
            "  \"zip_code\": \"67890\"\n",
            "}\n"
          ]
        }
      ]
    },
    {
      "cell_type": "markdown",
      "source": [
        "### Check Preconditions"
      ],
      "metadata": {
        "id": "DtCah0JMz92a"
      }
    },
    {
      "cell_type": "code",
      "source": [
        "# 3. Check some preconditions in Data\n",
        "\n",
        "messi_prompt = f\"\"\"\n",
        "Lionel Messi, an icon of the football world,\\\n",
        "stands as a testament to the extraordinary heights human talent can reach.\\\n",
        "With his mesmerizing dribbles, impeccable vision, and breathtaking goals,\\\n",
        "Messi has sculpted his name into the annals of sporting history. \\\n",
        "His journey from a young prodigy at Barcelona's La Masia academy \\\n",
        "to a global superstar has been a narrative of perseverance, resilience,\\\n",
        "and an unquenchable thirst for improvement. His on-field\\\n",
        "brilliance has earned him countless accolades, including multiple Ballon d'Or titles,\\\n",
        "and has solidified his status as one of the greatest footballers of all time.\"\"\"\n",
        "\n",
        "prompt = f\"\"\"\n",
        "Your will provided with a text in delimited by triple quoutes. \\\n",
        "If the text is about a real person write his/her information in following format:\\\n",
        "Name: ...\n",
        "Occupation: ...\n",
        "\n",
        "If the text is not about a real person then simply write \\\" Nothing Found\"\\\n",
        "\n",
        "\\\"\\\"\\\"{messi_prompt}\\\"\\\"\\\"\n",
        "\"\"\"\n",
        "\n",
        "response = get_completion(prompt)\n",
        "print(response)"
      ],
      "metadata": {
        "colab": {
          "base_uri": "https://localhost:8080/"
        },
        "id": "gr9vjj-p-wF0",
        "outputId": "cef5c13b-7fb7-444a-a7c7-a9a0a6d83d24"
      },
      "execution_count": null,
      "outputs": [
        {
          "output_type": "stream",
          "name": "stdout",
          "text": [
            "Name: Lionel Messi\n",
            "Occupation: Footballer\n"
          ]
        }
      ]
    },
    {
      "cell_type": "code",
      "source": [
        "sport_prompt = f\"\"\"\n",
        "Sports are the embodiment of human athleticism and spirit, \\\n",
        "a vibrant tapestry woven with competition, camaraderie, and unwavering dedication.\\\n",
        "They offer a platform for individuals to push their physical and mental boundaries,\\\n",
        "striving for excellence while showcasing teamwork, discipline, and perseverance.\\\n",
        "Whether on a grand stadium stage or a local neighborhood court,\\\n",
        "sports unite people from diverse backgrounds under a common love for the game.\\\n",
        "They teach invaluable life lessons—how to embrace victory with humility and accept defeat with grace.\\\n",
        "Beyond the scores, sports inspire dreams, foster friendships, \\\n",
        "and transcend language and cultural barriers, reminding us of the boundless potential of human endeavor.\"\"\"\n",
        "\n",
        "prompt = f\"\"\"\n",
        "Your will provided with a text in delimited by triple quoutes. \\\n",
        "If the text is about a real person write his/her information in following format:\\\n",
        "Name: ...\n",
        "Occupation: ...\n",
        "\n",
        "If the text is not about a real person then simply write \\\" Nothing Found\"\\\n",
        "\n",
        "\\\"\\\"\\\"{sport_prompt}\\\"\\\"\\\"\n",
        "\"\"\"\n",
        "response = get_completion(prompt)\n",
        "print(response)"
      ],
      "metadata": {
        "colab": {
          "base_uri": "https://localhost:8080/"
        },
        "id": "zUBd-0Z5-wIa",
        "outputId": "50e6ac8e-a4ac-47bd-89b8-4d7bb1255c1a"
      },
      "execution_count": null,
      "outputs": [
        {
          "output_type": "stream",
          "name": "stdout",
          "text": [
            "Nothing Found\n"
          ]
        }
      ]
    },
    {
      "cell_type": "markdown",
      "source": [
        "### In Context Learning Ability"
      ],
      "metadata": {
        "id": "H6dbEZsS0DZy"
      }
    },
    {
      "cell_type": "code",
      "source": [
        "prompt = f\"\"\"\n",
        "Your task is to rewrite text in consistant style:\n",
        "\n",
        "<formal>: Kindly take a seat.\n",
        "<answer>: Yo, grab a chair and park yourself, man.\n",
        "\n",
        "<formal>: Please partake in a meal.\n",
        "\"\"\"\n",
        "\n",
        "response = get_completion(prompt)\n",
        "print(response)"
      ],
      "metadata": {
        "colab": {
          "base_uri": "https://localhost:8080/"
        },
        "id": "iaUvX-b7Dl-l",
        "outputId": "97b341c4-3b73-4d37-a6f5-4cbbf1586afd"
      },
      "execution_count": null,
      "outputs": [
        {
          "output_type": "stream",
          "name": "stdout",
          "text": [
            "<answer>: Hey, dig in and enjoy your grub.\n"
          ]
        }
      ]
    },
    {
      "cell_type": "code",
      "source": [
        "prompt = f\"\"\"\n",
        "Your task is to output in consistant style:\n",
        "\n",
        "<input>: Hello my name is joe.\n",
        "<output>: Heelloo my naamee iis jooee.\n",
        "\n",
        "<input>: I am a programmer.\n",
        "<output>: II aam aa proograammeer.\n",
        "\n",
        "<formal>: who are you.\n",
        "\"\"\"\n",
        "\n",
        "response = get_completion(prompt)\n",
        "print(response)"
      ],
      "metadata": {
        "colab": {
          "base_uri": "https://localhost:8080/"
        },
        "id": "vHuS3NgEzDkf",
        "outputId": "eae281b7-ea5d-4537-cbbe-4e5ed8b04e62"
      },
      "execution_count": null,
      "outputs": [
        {
          "output_type": "stream",
          "name": "stdout",
          "text": [
            "<output>: Whoo aaree yoouu.\n"
          ]
        }
      ]
    },
    {
      "cell_type": "markdown",
      "source": [
        "## Hallucinations\n",
        "---\n",
        "Language models have a tendency to create imaginative responses when asked about topics they aren't well-informed on. Therefore, when assigning complex tasks, it's a good idea to break down the task yourself and instruct them to complete it according to your guidelines. This way, you can restrict their tendency to speculate."
      ],
      "metadata": {
        "id": "PBiRHteuFN-Q"
      }
    },
    {
      "cell_type": "code",
      "source": [
        "prompt = f\"\"\"\n",
        "Tell me about AeroGlide UltraSlim Smart Toothbrush by Boie\n",
        "\"\"\"\n",
        "\n",
        "\n",
        "response = get_completion(prompt)\n",
        "print(response)"
      ],
      "metadata": {
        "colab": {
          "base_uri": "https://localhost:8080/"
        },
        "id": "cnovt4vWxmJP",
        "outputId": "c256b521-51be-4908-bab6-a90c6d37ddc6"
      },
      "execution_count": null,
      "outputs": [
        {
          "output_type": "stream",
          "name": "stdout",
          "text": [
            "The AeroGlide UltraSlim Smart Toothbrush by Boie is a technologically advanced toothbrush designed to provide a superior brushing experience. Boie is a company known for its innovative oral care products, and the AeroGlide UltraSlim Smart Toothbrush is no exception.\n",
            "\n",
            "One of the standout features of this toothbrush is its ultra-slim design. The brush head is only 2mm thick, making it much thinner than traditional toothbrushes. This slim profile allows for better access to hard-to-reach areas of the mouth, ensuring a thorough and effective clean.\n",
            "\n",
            "The AeroGlide UltraSlim Smart Toothbrush also incorporates smart technology. It connects to a mobile app via Bluetooth, allowing users to track their brushing habits and receive personalized recommendations for improving their oral hygiene routine. The app provides real-time feedback on brushing technique, duration, and coverage, helping users to achieve optimal oral health.\n",
            "\n",
            "The toothbrush features soft, antimicrobial bristles made from a durable thermoplastic elastomer. These bristles are gentle on the gums and teeth, while also being effective at removing plaque and debris. The antimicrobial properties of the bristles help to inhibit the growth of bacteria, keeping the brush clean and hygienic.\n",
            "\n",
            "In terms of battery life, the AeroGlide UltraSlim Smart Toothbrush boasts an impressive 30-day battery life on a single charge. This makes it convenient for travel and ensures that users don't have to worry about constantly recharging their toothbrush.\n",
            "\n",
            "Overall, the AeroGlide UltraSlim Smart Toothbrush by Boie offers a combination of advanced technology, slim design, and effective cleaning capabilities. It is a great option for those looking to upgrade their oral care routine and achieve a healthier smile.\n"
          ]
        }
      ]
    },
    {
      "cell_type": "code",
      "source": [
        "prompt = f\"\"\"\n",
        "Determine if the student's solution is correct or not.\n",
        "\n",
        "Question:\n",
        "I'm building a solar power installation and I need \\\n",
        " help working out the financials.\n",
        "- Land costs $100 / square foot\n",
        "- I can buy solar panels for $250 / square foot\n",
        "- I negotiated a contract for maintenance that will cost \\\n",
        "me a flat $100k per year, and an additional $10 / square \\\n",
        "foot\n",
        "What is the total cost for the first year of operations\n",
        "as a function of the number of square feet.\n",
        "\n",
        "Student's Solution:\n",
        "Let x be the size of the installation in square feet.\n",
        "Costs:\n",
        "1. Land cost: 100x\n",
        "2. Solar panel cost: 250x\n",
        "3. Maintenance cost: 100,000 + 100x\n",
        "Total cost: 100x + 250x + 100,000 + 100x = 450x + 100,000\n",
        "\"\"\"\n",
        "response = get_completion(prompt)\n",
        "print(response)"
      ],
      "metadata": {
        "colab": {
          "base_uri": "https://localhost:8080/"
        },
        "id": "8daNVIpNFK7m",
        "outputId": "341dadc8-10ec-41a2-ee4e-7072b2cdece4"
      },
      "execution_count": null,
      "outputs": [
        {
          "output_type": "stream",
          "name": "stdout",
          "text": [
            "The student's solution is correct. They correctly identified the costs for land, solar panels, and maintenance, and calculated the total cost for the first year of operations as a function of the number of square feet.\n"
          ]
        }
      ]
    },
    {
      "cell_type": "code",
      "source": [
        "prompt = f\"\"\"\n",
        "Your task is to determine if the student's solution \\\n",
        "is correct or not.\n",
        "To solve the problem do the following:\n",
        "- First, work out your own solution to the problem.\n",
        "- Then compare your solution to the student's solution \\\n",
        "and evaluate if the student's solution is correct or not.\n",
        "Don't decide if the student's solution is correct until\n",
        "you have done the problem yourself.\n",
        "\n",
        "Use the following format:\n",
        "Question:\n",
        "```\n",
        "question here\n",
        "```\n",
        "Student's solution:\n",
        "```\n",
        "student's solution here\n",
        "```\n",
        "Actual solution:\n",
        "```\n",
        "steps to work out the solution and your solution here\n",
        "```\n",
        "Is the student's solution the same as actual solution \\\n",
        "just calculated:\n",
        "```\n",
        "yes or no\n",
        "```\n",
        "Student grade:\n",
        "```\n",
        "correct or incorrect\n",
        "```\n",
        "\n",
        "Question:\n",
        "```\n",
        "I'm building a solar power installation and I need help \\\n",
        "working out the financials.\n",
        "- Land costs $100 / square foot\n",
        "- I can buy solar panels for $250 / square foot\n",
        "- I negotiated a contract for maintenance that will cost \\\n",
        "me a flat $100k per year, and an additional $10 / square \\\n",
        "foot\n",
        "What is the total cost for the first year of operations \\\n",
        "as a function of the number of square feet.\n",
        "```\n",
        "Student's solution:\n",
        "```\n",
        "Let x be the size of the installation in square feet.\n",
        "Costs:\n",
        "1. Land cost: 100x\n",
        "2. Solar panel cost: 250x\n",
        "3. Maintenance cost: 100,000 + 100x\n",
        "Total cost: 100x + 250x + 100,000 + 100x = 450x + 100,000\n",
        "```\n",
        "Actual solution:\n",
        "\"\"\"\n",
        "response = get_completion(prompt)\n",
        "print(response)"
      ],
      "metadata": {
        "colab": {
          "base_uri": "https://localhost:8080/"
        },
        "id": "KWa1ZmqxFK-4",
        "outputId": "e1083666-e369-4c73-a83e-6110e05dcbfd"
      },
      "execution_count": null,
      "outputs": [
        {
          "output_type": "stream",
          "name": "stdout",
          "text": [
            "To calculate the total cost for the first year of operations, we need to add up the costs of land, solar panels, and maintenance.\n",
            "\n",
            "Let x be the size of the installation in square feet.\n",
            "\n",
            "1. Land cost: $100 / square foot\n",
            "The cost of land is 100 * x = 100x.\n",
            "\n",
            "2. Solar panel cost: $250 / square foot\n",
            "The cost of solar panels is 250 * x = 250x.\n",
            "\n",
            "3. Maintenance cost: $100,000 + $10 / square foot\n",
            "The maintenance cost is a flat $100,000 per year, plus $10 per square foot. So the maintenance cost is 100,000 + 10 * x = 100,000 + 10x.\n",
            "\n",
            "Total cost: 100x + 250x + 100,000 + 10x = 360x + 100,000.\n",
            "\n",
            "Is the student's solution the same as the actual solution just calculated:\n",
            "No\n",
            "\n",
            "Student grade:\n",
            "Incorrect\n"
          ]
        }
      ]
    },
    {
      "cell_type": "code",
      "source": [
        "tea_poem = f\"\"\"\n",
        "Boil water hot and clear,\\\n",
        "Tea leaves or bags, bring them near.\\\n",
        "In cup or pot, they find their place,\\\n",
        "Water poured with gentle grace.\\\n",
        "\n",
        "Steep in patience, flavors bloom,\\\n",
        "Black, green, or herbal's tune.\\\n",
        "Moments pass, the essence grows,\\\n",
        "Tea's magic in the steam it shows.\\\n",
        "\n",
        "Remove the leaves, their duty done,\\\n",
        "Add sweetness or milk, if the heart does run.\\\n",
        "Sip the warmth, let worries cease,\\\n",
        "In each tiny cup, find a moment of peace.\\\n",
        "\"\"\"\n",
        "\n",
        "# example 1\n",
        "prompt = f\"\"\"\n",
        "Perform the following actions on text provided in triple backticks:\n",
        "1- rewrite the text in normal language.\n",
        "2- if the result represent a recipe rewrite it in format:\n",
        "  step 1 - ...\n",
        "  step 2 - ...\n",
        "  .\n",
        "  .\n",
        "  .\n",
        "  step N - ...\n",
        "  if it is not recipe ignore this step.\n",
        "3 - Translate the result into Persian.\n",
        "4 - Ouput the result in JSON format with keys:\n",
        "  type: is recipe/not_recipe.\n",
        "  ingridients: list ingridients of the recipe only if it is recipe else fill it with \\\"None\"\\\n",
        "  recipe: If the text represented a recipe write output of stage 3 else If it is not recipe simple write \\\"None\"\\\n",
        "\n",
        "Text:\n",
        "```{tea_poem}```\n",
        "\"\"\"\n",
        "response = get_completion(prompt)\n",
        "print(response)"
      ],
      "metadata": {
        "colab": {
          "base_uri": "https://localhost:8080/"
        },
        "id": "acYUl8BsFKrX",
        "outputId": "8a6c3dcd-b920-4031-f672-9e054fe792cd"
      },
      "execution_count": null,
      "outputs": [
        {
          "output_type": "stream",
          "name": "stdout",
          "text": [
            "1- The text is describing the process of making tea. It talks about boiling water, adding tea leaves or bags, steeping the tea, and then adding sweetness or milk if desired. It emphasizes the calming and comforting effects of drinking tea.\n",
            "\n",
            "2- This is a recipe for making tea:\n",
            "  step 1 - Boil water hot and clear.\n",
            "  step 2 - Place tea leaves or bags in a cup or pot.\n",
            "  step 3 - Pour water into the cup or pot with gentle grace.\n",
            "  step 4 - Steep the tea patiently to let the flavors bloom.\n",
            "  step 5 - Choose between black, green, or herbal tea.\n",
            "  step 6 - As time passes, the essence of the tea grows.\n",
            "  step 7 - Remove the tea leaves or bags once their duty is done.\n",
            "  step 8 - Add sweetness or milk if desired.\n",
            "  step 9 - Sip the warm tea and let worries cease.\n",
            "  step 10 - Find a moment of peace in each tiny cup.\n",
            "\n",
            "3- متن توضیح می‌دهد که چگونه چای تهیه کنیم. در این متن ابتدا آب را جوش می‌دهیم و سپس برگ‌های چای یا کیسه‌های چای را به آن اضافه می‌کنیم. سپس چای را می‌گذاریم تا مدتی خیس شود و در نهایت شیرینی یا شیر را به آن اضافه می‌کنیم. این متن بر تأثیر آرامش‌بخش و آرام‌کننده نوشیدن چای تأکید دارد.\n",
            "\n",
            "4- {\n",
            "  \"type\": \"recipe\",\n",
            "  \"ingredients\": [\n",
            "    \"water\",\n",
            "    \"tea leaves or bags\",\n",
            "    \"sweetness or milk (optional)\"\n",
            "  ],\n",
            "  \"recipe\": \"متن توضیح می‌دهد که چگونه چای تهیه کنیم. در این متن ابتدا آب را جوش می‌دهیم و سپس برگ‌های چای یا کیسه‌های چای را به آن اضافه می‌کنیم. سپس چای را می‌گذاریم تا مدتی خیس شود و در نهایت شیرینی یا شیر را به آن اضافه می‌کنیم. این متن بر تأثیر آرامش‌بخش و آرام‌کننده نوشیدن چای تأکید دارد.\"\n",
            "}\n"
          ]
        }
      ]
    },
    {
      "cell_type": "markdown",
      "source": [
        "## Practical Applications\n",
        "---\n",
        "\n",
        "There exist certain pragmatic tasks at which LLMs excel, and these tasks hold significant practical utility. Among these tasks are text summarization, drawing inferences from input text, and reshaping and translating prompts to achieve desired tones and structures."
      ],
      "metadata": {
        "id": "_7xZDT7dSOMv"
      }
    },
    {
      "cell_type": "markdown",
      "source": [
        "### 1. Summerize"
      ],
      "metadata": {
        "id": "FZk6uVKe0NBS"
      }
    },
    {
      "cell_type": "code",
      "source": [
        "quantom_computer = f\"\"\"\n",
        "A quantum computer is a cutting-edge computing device that operates based \\\n",
        "on the principles of quantum mechanics. Unlike classical computers that use \\\n",
        "bits as the smallest unit of data (which can represent either 0 or 1),\\\n",
        "quantum computers use quantum bits or qubits. Qubits can exist in multiple\\\n",
        "states simultaneously due to the phenomenon of superposition, allowing quantum\\\n",
        "computers to perform complex calculations and solve certain problems \\\n",
        "much faster than classical computers. Additionally, quantum computers leverage entanglement,\\\n",
        "a quantum property that links qubits in a way that the state of one qubit\\\n",
        "instantly influences the state of another, regardless of distance.\\\n",
        "Quantum computers have the potential to revolutionize fields like cryptography,\\\n",
        "optimization, and scientific simulations by solving problems that are practically\\\n",
        "infeasible for classical computers to handle efficiently. However, building and \\\n",
        "maintaining stable qubits and preserving quantum states remain significant technical challenges.\n",
        "\"\"\""
      ],
      "metadata": {
        "id": "7KGKrDLVFLCO"
      },
      "execution_count": null,
      "outputs": []
    },
    {
      "cell_type": "code",
      "source": [
        "prompt = f\"\"\"\n",
        "Your task is to summarize the scientific explanation below, delimited by triple\n",
        "backticks, in at most 30 words.\n",
        "\n",
        "Explanation: ```{quantom_computer}```\n",
        "\"\"\"\n",
        "\n",
        "response = get_completion(prompt)\n",
        "print(response)"
      ],
      "metadata": {
        "colab": {
          "base_uri": "https://localhost:8080/"
        },
        "id": "guVSvBC1FLFM",
        "outputId": "1315e4ea-a261-44a9-d07c-ce4b42ee1b50"
      },
      "execution_count": null,
      "outputs": [
        {
          "output_type": "stream",
          "name": "stdout",
          "text": [
            "Quantum computers use qubits instead of classical bits, allowing for faster calculations and solving complex problems. However, maintaining stable qubits is a challenge.\n"
          ]
        }
      ]
    },
    {
      "cell_type": "code",
      "source": [
        "len(response.split(' '))"
      ],
      "metadata": {
        "colab": {
          "base_uri": "https://localhost:8080/"
        },
        "id": "uTt8_IbHXBSS",
        "outputId": "e95b998d-9f09-4a30-9ce3-bac5f5a8fcc2"
      },
      "execution_count": null,
      "outputs": [
        {
          "output_type": "execute_result",
          "data": {
            "text/plain": [
              "23"
            ]
          },
          "metadata": {},
          "execution_count": 31
        }
      ]
    },
    {
      "cell_type": "code",
      "source": [
        "prompt = f\"\"\"\n",
        "Your task is to summarize the scientific explanation below, delimited by triple\n",
        "backticks, in at most 3 sentences.\n",
        "\n",
        "Explanation: ```{quantom_computer}```\n",
        "\"\"\"\n",
        "\n",
        "response = get_completion(prompt)\n",
        "print(response)"
      ],
      "metadata": {
        "colab": {
          "base_uri": "https://localhost:8080/"
        },
        "id": "gRBredsgXI2k",
        "outputId": "1954eb24-3238-4520-cef2-f50963b81b5a"
      },
      "execution_count": null,
      "outputs": [
        {
          "output_type": "stream",
          "name": "stdout",
          "text": [
            "A quantum computer is a cutting-edge computing device that uses quantum bits or qubits, which can exist in multiple states simultaneously due to superposition. This allows quantum computers to perform complex calculations and solve certain problems much faster than classical computers. Quantum computers have the potential to revolutionize fields like cryptography and optimization, but there are significant technical challenges in building and maintaining stable qubits and preserving quantum states.\n"
          ]
        }
      ]
    },
    {
      "cell_type": "code",
      "source": [
        "for idx, sentence in enumerate(response.strip().split('.')):\n",
        "  print(idx, sentence)"
      ],
      "metadata": {
        "colab": {
          "base_uri": "https://localhost:8080/"
        },
        "id": "Ax-hGbWjXbPl",
        "outputId": "2b5c450d-7d44-442e-aee8-37ae2b24b406"
      },
      "execution_count": null,
      "outputs": [
        {
          "output_type": "stream",
          "name": "stdout",
          "text": [
            "0 A quantum computer is a cutting-edge computing device that uses quantum bits or qubits, which can exist in multiple states simultaneously due to superposition\n",
            "1  This allows quantum computers to perform complex calculations and solve certain problems much faster than classical computers\n",
            "2  Quantum computers have the potential to revolutionize fields like cryptography and optimization, but there are significant technical challenges in building and maintaining stable qubits and preserving quantum states\n",
            "3 \n"
          ]
        }
      ]
    },
    {
      "cell_type": "markdown",
      "source": [
        "Be specific when asking LLM to provide a summery."
      ],
      "metadata": {
        "id": "n6Z3zcpNZFbd"
      }
    },
    {
      "cell_type": "code",
      "source": [
        "prompt = f\"\"\"\n",
        "Your task is to generate a short summary of a scientific concept.\n",
        "\n",
        "Summarize the explanation below, delimited by triple\n",
        "backticks, in at most 30 words, and focusing on applications of the provided\n",
        "field.\n",
        "\n",
        "Explanation: ```{quantom_computer}```\n",
        "\"\"\"\n",
        "\n",
        "response = get_completion(prompt)\n",
        "print(response)"
      ],
      "metadata": {
        "colab": {
          "base_uri": "https://localhost:8080/"
        },
        "id": "TkvcEW24X73E",
        "outputId": "f58cdb88-f46c-4855-c374-589d8fb6e01b"
      },
      "execution_count": null,
      "outputs": [
        {
          "output_type": "stream",
          "name": "stdout",
          "text": [
            "Quantum computers use qubits to perform complex calculations and solve problems faster than classical computers. They have the potential to revolutionize cryptography, optimization, and scientific simulations, but face technical challenges.\n"
          ]
        }
      ]
    },
    {
      "cell_type": "markdown",
      "source": [
        "Also you can extract information which is identical to asking for summery in specific format."
      ],
      "metadata": {
        "id": "9zUJZTzpZLzK"
      }
    },
    {
      "cell_type": "code",
      "source": [
        "# When you pay attention :)\n",
        "prompt = f\"\"\"\n",
        "Your task is to generate a short summary of a scientific concept.\n",
        "\n",
        "From the explanation below, delimited by triple\n",
        "backticks do following actions:\n",
        "1- extract information related to the application of the field.\n",
        "2- list applications from result of step 1 with format:\n",
        "  1. application#1\n",
        "  2. application#2\n",
        "  .\n",
        "  .\n",
        "  .\n",
        "  N. application#N\n",
        "\n",
        "\n",
        "Explanation: ```{quantom_computer}```\n",
        "\"\"\"\n",
        "\n",
        "response = get_completion(prompt)\n",
        "print(response)"
      ],
      "metadata": {
        "colab": {
          "base_uri": "https://localhost:8080/"
        },
        "id": "tQKPjJGCZN9C",
        "outputId": "79f3f602-35d7-4422-e5bc-aa5d3d4e145f"
      },
      "execution_count": null,
      "outputs": [
        {
          "output_type": "stream",
          "name": "stdout",
          "text": [
            "Applications of quantum computers:\n",
            "1. Cryptography\n",
            "2. Optimization\n",
            "3. Scientific simulations\n"
          ]
        }
      ]
    },
    {
      "cell_type": "code",
      "source": [
        "# When you do not pay attention :(\n",
        "prompt = f\"\"\"\n",
        "Your task is to generate a short summary of a scientific concept.\n",
        "\n",
        "From the explanation below, delimited by triple\n",
        "backticks do following actions:\n",
        "1- extract information related to the application of the field.\n",
        "2- list applications with format:\n",
        "  1. application#1\n",
        "  2. application#2\n",
        "  .\n",
        "  .\n",
        "  .\n",
        "  N. application#N\n",
        "\n",
        "\n",
        "Explanation: ```{quantom_computer}```\n",
        "\"\"\"\n",
        "\n",
        "response = get_completion(prompt)\n",
        "print(response)"
      ],
      "metadata": {
        "id": "3ICwV4ZbaETT",
        "outputId": "4f2e7361-3729-4bc0-f26c-0aae55e51660",
        "colab": {
          "base_uri": "https://localhost:8080/"
        }
      },
      "execution_count": null,
      "outputs": [
        {
          "output_type": "stream",
          "name": "stdout",
          "text": [
            "Applications of quantum computers:\n",
            "1. Cryptography: Quantum computers have the potential to break current encryption algorithms, making them useful for developing secure communication systems.\n",
            "2. Optimization: Quantum computers can solve complex optimization problems more efficiently than classical computers, making them valuable for tasks such as route optimization and resource allocation.\n",
            "3. Scientific simulations: Quantum computers can simulate quantum systems, allowing scientists to study and understand complex phenomena in fields such as chemistry, materials science, and quantum physics.\n",
            "4. Machine learning: Quantum computers can enhance machine learning algorithms by processing and analyzing large amounts of data more quickly, leading to improved pattern recognition and prediction capabilities.\n",
            "5. Drug discovery: Quantum computers can accelerate the process of drug discovery by simulating the behavior of molecules and predicting their interactions with potential drugs, enabling the development of more effective treatments.\n",
            "6. Financial modeling: Quantum computers can be used to optimize investment portfolios, analyze market trends, and perform risk assessments, providing valuable insights for financial institutions.\n",
            "7. Weather forecasting: Quantum computers can improve weather forecasting models by processing vast amounts of data and running complex simulations, leading to more accurate predictions and early warning systems.\n",
            "8. Artificial intelligence: Quantum computers can enhance AI algorithms by enabling faster and more efficient processing of data, leading to advancements in areas such as natural language processing, computer vision, and robotics.\n",
            "9. Supply chain management: Quantum computers can optimize supply chain networks, improving efficiency, reducing costs, and minimizing disruptions.\n",
            "10. Energy optimization: Quantum computers can optimize energy distribution and storage systems, leading to more efficient use of renewable energy sources and reducing environmental impact.\n"
          ]
        }
      ]
    },
    {
      "cell_type": "markdown",
      "source": [
        "### 2. Infering"
      ],
      "metadata": {
        "id": "HZoOcjZOieXi"
      }
    },
    {
      "cell_type": "code",
      "source": [
        "m2_pro_review = f\"\"\"\n",
        "MacBook ollut käytössä nyt muutaman viikon. Ei meinaa saada näppejä irti siitä,\\\n",
        "on se kerrassaan niin makee peli. M2 Pro prossu on aivan omaa luokkaansa\\\n",
        "ja 16Gb RAM on todella hyvä isojen kuvatiedostojen käsittelyssä.\\\n",
        "Jos joku kysyisi, minkä kannettavan ostaisi, niin tässä on ykkössuositukseni.\n",
        "\"\"\"\n",
        "\n",
        "prompt = f\"\"\"\n",
        "What is the language of the following product review,\n",
        "which is delimited with triple backticks?\n",
        "\n",
        "Review text: '''{m2_pro_review}'''\n",
        "\"\"\"\n",
        "response = get_completion(prompt)\n",
        "print(response)"
      ],
      "metadata": {
        "id": "ieGZ1DbmZA3O",
        "colab": {
          "base_uri": "https://localhost:8080/"
        },
        "outputId": "212e4fc1-2a97-4dfd-f25c-e17402ac732b"
      },
      "execution_count": null,
      "outputs": [
        {
          "output_type": "stream",
          "name": "stdout",
          "text": [
            "The language of the product review is Finnish.\n"
          ]
        }
      ]
    },
    {
      "cell_type": "code",
      "source": [
        "m2_pro_review = f\"\"\"\n",
        "MacBook ollut käytössä nyt muutaman viikon. Ei meinaa saada näppejä irti siitä,\\\n",
        "on se kerrassaan niin makee peli. M2 Pro prossu on aivan omaa luokkaansa\\\n",
        "ja 16Gb RAM on todella hyvä isojen kuvatiedostojen käsittelyssä.\\\n",
        "Jos joku kysyisi, minkä kannettavan ostaisi, niin tässä on ykkössuositukseni.\n",
        "\"\"\"\n",
        "\n",
        "prompt = f\"\"\"\n",
        "What is the sentiment of the following product review,\n",
        "which is delimited with triple backticks?\n",
        "\n",
        "Review text: '''{m2_pro_review}'''\n",
        "\"\"\"\n",
        "response = get_completion(prompt)\n",
        "print(response)"
      ],
      "metadata": {
        "colab": {
          "base_uri": "https://localhost:8080/"
        },
        "id": "8jrdmE1bjC6N",
        "outputId": "10d18f04-99a0-467e-a8de-e4efe92be64f"
      },
      "execution_count": null,
      "outputs": [
        {
          "output_type": "stream",
          "name": "stdout",
          "text": [
            "The sentiment of the product review is positive.\n"
          ]
        }
      ]
    },
    {
      "cell_type": "code",
      "source": [
        "m2_pro_review = f\"\"\"\n",
        "MacBook ollut käytössä nyt muutaman viikon. Ei meinaa saada näppejä irti siitä,\\\n",
        "on se kerrassaan niin makee peli. M2 Pro prossu on aivan omaa luokkaansa\\\n",
        "ja 16Gb RAM on todella hyvä isojen kuvatiedostojen käsittelyssä.\\\n",
        "Jos joku kysyisi, minkä kannettavan ostaisi, niin tässä on ykkössuositukseni.\n",
        "\"\"\"\n",
        "\n",
        "prompt = f\"\"\"\n",
        "What is the sentiment of the following product review, \\\n",
        "which is delimited with triple backticks?\\\n",
        "Give your answer as a single character If it is positive write \\\"+\\\" and if it is negative write \\\"-\"\\.\n",
        "\n",
        "Review text: '''{m2_pro_review}'''\n",
        "\"\"\"\n",
        "response = get_completion(prompt)\n",
        "print(response)"
      ],
      "metadata": {
        "colab": {
          "base_uri": "https://localhost:8080/"
        },
        "id": "HzVtKKSBjHmq",
        "outputId": "611ffc33-e415-46cb-cdda-fed20b1018e4"
      },
      "execution_count": null,
      "outputs": [
        {
          "output_type": "stream",
          "name": "stdout",
          "text": [
            "+\n"
          ]
        }
      ]
    },
    {
      "cell_type": "code",
      "source": [
        "m2_pro_review = f\"\"\"\n",
        "MacBook ollut käytössä nyt muutaman viikon. Ei meinaa saada näppejä irti siitä,\\\n",
        "on se kerrassaan niin makee peli. M2 Pro prossu on aivan omaa luokkaansa\\\n",
        "ja 16Gb RAM on todella hyvä isojen kuvatiedostojen käsittelyssä.\\\n",
        "Jos joku kysyisi, minkä kannettavan ostaisi, niin tässä on ykkössuositukseni.\n",
        "\"\"\"\n",
        "\n",
        "prompt = f\"\"\"\n",
        "Translate the following product review to English, \\\n",
        "The review delimited with triple backticks?\\\n",
        "\n",
        "Review text: '''{m2_pro_review}'''\n",
        "\"\"\"\n",
        "response = get_completion(prompt)\n",
        "print(response)"
      ],
      "metadata": {
        "colab": {
          "base_uri": "https://localhost:8080/"
        },
        "id": "-dwvA6Y-jml-",
        "outputId": "1f046595-d688-4403-813d-69195b67c825"
      },
      "execution_count": null,
      "outputs": [
        {
          "output_type": "stream",
          "name": "stdout",
          "text": [
            "Review text: '''\n",
            "I have been using the MacBook for a few weeks now. It's hard to keep my hands off it, it's such a cool device. The M2 Pro processor is in a league of its own and the 16GB RAM is really good for handling large image files. If someone asked me which laptop to buy, this would be my top recommendation.\n",
            "'''\n"
          ]
        }
      ]
    },
    {
      "cell_type": "code",
      "source": [
        "m2_pro_review = f\"\"\"\n",
        "MacBook ollut käytössä nyt muutaman viikon. Ei meinaa saada näppejä irti siitä,\\\n",
        "on se kerrassaan niin makee peli. M2 Pro prossu on aivan omaa luokkaansa\\\n",
        "ja 16Gb RAM on todella hyvä isojen kuvatiedostojen käsittelyssä.\\\n",
        "Jos joku kysyisi, minkä kannettavan ostaisi, niin tässä on ykkössuositukseni.\n",
        "\"\"\"\n",
        "\n",
        "prompt = f\"\"\"\n",
        "Identify a list of emotions that the writer of the \\\n",
        "following review is expressing. Include no more than \\\n",
        "five items in the list. Format your answer as a list of \\\n",
        "lower-case words separated by commas.\n",
        "\n",
        "Review text: '''{m2_pro_review}'''\n",
        "\"\"\"\n",
        "response = get_completion(prompt)\n",
        "print(response)"
      ],
      "metadata": {
        "colab": {
          "base_uri": "https://localhost:8080/"
        },
        "id": "uk0ScmFjj3LP",
        "outputId": "86e140b0-c59e-4f3d-b3ac-5d33a9c6ea7d"
      },
      "execution_count": null,
      "outputs": [
        {
          "output_type": "stream",
          "name": "stdout",
          "text": [
            "excitement, satisfaction, admiration, confidence, recommendation\n"
          ]
        }
      ]
    },
    {
      "cell_type": "code",
      "source": [
        "prompt = f\"\"\"\n",
        "Identify the following items from the review text:\n",
        "- Sentiment (positive or negative)\n",
        "- Is the reviewer expressing anger? (true or false)\n",
        "- Item purchased by reviewer\n",
        "- Company that made the item\n",
        "\n",
        "The review is delimited with triple backticks. \\\n",
        "Format your response as a JSON object with \\\n",
        "\"Sentiment\", \"Anger\", \"Item\" and \"Brand\" as the keys.\n",
        "If the information isn't present, use \"unknown\" \\\n",
        "as the value.\n",
        "Make your response as short as possible.\n",
        "Format the Anger value as a boolean.\n",
        "\n",
        "Review text: '''{m2_pro_review}'''\n",
        "\"\"\"\n",
        "response = get_completion(prompt)\n",
        "print(response)"
      ],
      "metadata": {
        "colab": {
          "base_uri": "https://localhost:8080/"
        },
        "id": "JnANQOrhkEpa",
        "outputId": "135280e8-fb38-4d4e-e05d-7c8c79f1d171"
      },
      "execution_count": null,
      "outputs": [
        {
          "output_type": "stream",
          "name": "stdout",
          "text": [
            "{\n",
            "  \"Sentiment\": \"positive\",\n",
            "  \"Anger\": false,\n",
            "  \"Item\": \"MacBook\",\n",
            "  \"Brand\": \"unknown\"\n",
            "}\n"
          ]
        }
      ]
    },
    {
      "cell_type": "markdown",
      "source": [
        "### 3. Transforming"
      ],
      "metadata": {
        "id": "vfYw8NT-lFYP"
      }
    },
    {
      "cell_type": "code",
      "source": [
        "prompt = f\"\"\"\n",
        "Translate the following  text to French and Spanish and Persian\n",
        "and English pirate: \\\n",
        "```I want to order a basketball```\n",
        "\"\"\"\n",
        "response = get_completion(prompt)\n",
        "print(response)"
      ],
      "metadata": {
        "colab": {
          "base_uri": "https://localhost:8080/"
        },
        "id": "lp8ezsZik1KN",
        "outputId": "90c52a2f-b760-467a-a336-ee6bd9e9d580"
      },
      "execution_count": null,
      "outputs": [
        {
          "output_type": "stream",
          "name": "stdout",
          "text": [
            "French: ```Je veux commander un ballon de basket```\n",
            "Spanish: ```Quiero ordenar una pelota de baloncesto```\n",
            "Persian: ```من می‌خواهم یک توپ بسکتبال سفارش دهم```\n",
            "English: ```I want to order a basketball```\n"
          ]
        }
      ]
    },
    {
      "cell_type": "code",
      "source": [
        "user_messages = [\n",
        "  \"La performance du système est plus lente que d'habitude.\",  # System performance is slower than normal\n",
        "  \"Mi monitor tiene píxeles que no se iluminan.\",              # My monitor has pixels that are not lighting\n",
        "  \"Il mio mouse non funziona\",                                 # My mouse is not working\n",
        "  \"Mój klawisz Ctrl jest zepsuty\",                             # My keyboard has a broken control key\n",
        "  \"我的屏幕在闪烁\"                                               # My screen is flashing\n",
        "]\n",
        "\n",
        "for issue in user_messages:\n",
        "    prompt = f\"Tell me what language this is: ```{issue}```\"\n",
        "    lang = get_completion(prompt)\n",
        "    print(f\"Original message ({lang}): {issue}\")\n",
        "\n",
        "    prompt = f\"\"\"\n",
        "    Translate the following  text to English \\\n",
        "    and Persian: ```{issue}```\n",
        "    \"\"\"\n",
        "    response = get_completion(prompt)\n",
        "    print(response, \"\\n\")"
      ],
      "metadata": {
        "colab": {
          "base_uri": "https://localhost:8080/"
        },
        "id": "bOwDYT--lRFg",
        "outputId": "52720105-4262-4027-b170-296ed344316a"
      },
      "execution_count": null,
      "outputs": [
        {
          "output_type": "stream",
          "name": "stdout",
          "text": [
            "Original message (The language is French.): La performance du système est plus lente que d'habitude.\n",
            "English translation: \"The system performance is slower than usual.\"\n",
            "\n",
            "Persian translation: \"عملکرد سیستم از معمول کندتر است.\" \n",
            "\n",
            "Original message (The language is Spanish.): Mi monitor tiene píxeles que no se iluminan.\n",
            "English translation: \"My monitor has pixels that do not light up.\"\n",
            "\n",
            "Persian translation: \"مانیتور من پیکسل‌هایی دارد که روشن نمی‌شوند.\" \n",
            "\n",
            "Original message (The language is Italian.): Il mio mouse non funziona\n",
            "English: My mouse is not working.\n",
            "Persian: ماوس من کار نمی‌کند. \n",
            "\n",
            "Original message (The language is Polish.): Mój klawisz Ctrl jest zepsuty\n",
            "English translation: \"My Ctrl key is broken\"\n",
            "\n",
            "Persian translation: \"کلید Ctrl من خراب است\" \n",
            "\n",
            "Original message (The language is Chinese.): 我的屏幕在闪烁\n",
            "English translation: \"My screen is flickering.\"\n",
            "\n",
            "Persian translation: \"صفحه نمایش من در حال چشمک زدن است.\" \n",
            "\n"
          ]
        }
      ]
    },
    {
      "cell_type": "code",
      "source": [
        "prompt = f\"\"\"\n",
        "Translate the following from slang to a business letter:\n",
        "'Dude, This is Joe, check out this spec on this standing lamp.'\n",
        "\"\"\"\n",
        "response = get_completion(prompt)\n",
        "print(response)"
      ],
      "metadata": {
        "colab": {
          "base_uri": "https://localhost:8080/"
        },
        "id": "CVONFyv0lmYM",
        "outputId": "03611523-057b-4827-b9cd-2de89631f508"
      },
      "execution_count": null,
      "outputs": [
        {
          "output_type": "stream",
          "name": "stdout",
          "text": [
            "Dear Sir/Madam,\n",
            "\n",
            "I hope this letter finds you well. My name is Joe, and I am writing to bring your attention to a specification document regarding a standing lamp. \n",
            "\n",
            "I kindly request that you take a moment to review the attached spec, as it contains important details about the standing lamp in question. \n",
            "\n",
            "Thank you for your time and consideration. I look forward to hearing from you soon.\n",
            "\n",
            "Sincerely,\n",
            "Joe\n"
          ]
        }
      ]
    },
    {
      "cell_type": "code",
      "source": [
        "prompt = f\"\"\"\n",
        "Translate the following from slang to Shakespeare writing style:\n",
        "'Dude, This is Joe, check out this spec on this standing lamp.'\n",
        "\"\"\"\n",
        "response = get_completion(prompt)\n",
        "print(response)"
      ],
      "metadata": {
        "colab": {
          "base_uri": "https://localhost:8080/"
        },
        "id": "CtxpRs9Jl1E3",
        "outputId": "de014aa4-5250-4fdc-e17e-3c20e01b0eb3"
      },
      "execution_count": null,
      "outputs": [
        {
          "output_type": "stream",
          "name": "stdout",
          "text": [
            "Good sir, behold! This is Joe, I beseech thee, cast thine eyes upon this spectacle of a standing lamp.\n"
          ]
        }
      ]
    },
    {
      "cell_type": "code",
      "source": [
        "prompt = f\"\"\"\n",
        "Translate the following from slang to Persian Poem:\n",
        "'Dude, This is Joe, check out this spec on this standing lamp.'\n",
        "\"\"\"\n",
        "response = get_completion(prompt)\n",
        "print(response)"
      ],
      "metadata": {
        "colab": {
          "base_uri": "https://localhost:8080/"
        },
        "id": "ttEuCwyfmQ5k",
        "outputId": "67e24afb-c45b-47cd-89e7-1dbbef878926"
      },
      "execution_count": null,
      "outputs": [
        {
          "output_type": "stream",
          "name": "stdout",
          "text": [
            "داداش، این جوه است، نگاه کن به این مشخصات لامپ ایستاده.\n"
          ]
        }
      ]
    },
    {
      "cell_type": "code",
      "source": [
        "prompt = f\"\"\"\n",
        "Do the following actions:\n",
        "1 - Rewrite the following from slang to Formal English language:\n",
        "  'Dude, This is Joe, check out this spec on this standing lamp.'\n",
        "2 - Translate result of step 1 to persian.\n",
        "3 - Transform result of step 2 to persian poem.\n",
        "\"\"\"\n",
        "response = get_completion(prompt)\n",
        "print(response)"
      ],
      "metadata": {
        "colab": {
          "base_uri": "https://localhost:8080/"
        },
        "id": "e5pe7QpqmWhW",
        "outputId": "b69ea9c2-b498-40e5-ed89-e2d72b82c051"
      },
      "execution_count": null,
      "outputs": [
        {
          "output_type": "stream",
          "name": "stdout",
          "text": [
            "1 - Rewrite the following from slang to Formal English language: \n",
            "'Hello, This is Joe, please take a look at the specifications of this standing lamp.'\n",
            "\n",
            "2 - Translate result of step 1 to Persian: \n",
            "'سلام، این جو است، لطفاً مشخصات لامپ ایستاده را بررسی کنید.'\n",
            "\n",
            "3 - Transform result of step 2 to Persian poem: \n",
            "سلام، این جو است، لطفاً مشخصات لامپ ایستاده را بررسی کنید.\n",
            "درخشش نور او را ببینید، این لامپ بی‌نظیر\n",
            "از طراحی و ساخت فوق‌العاده‌ای برخوردار است\n",
            "به زیبایی و استحکام آن معشوق شوید\n",
            "در این لحظه، این لامپ را بشناسید و بپذیرید.\n"
          ]
        }
      ]
    },
    {
      "cell_type": "code",
      "source": [
        "data_json = { \"resturant employees\" :[\n",
        "    {\"name\":\"Shyam\", \"email\":\"shyamjaiswal@gmail.com\"},\n",
        "    {\"name\":\"Bob\", \"email\":\"bob32@gmail.com\"},\n",
        "    {\"name\":\"Jai\", \"email\":\"jai87@gmail.com\"}\n",
        "]}\n",
        "\n",
        "prompt = f\"\"\"\n",
        "Translate the following python dictionary from JSON to an HTML \\\n",
        "table with column headers and title: {data_json}\n",
        "\"\"\"\n",
        "response = get_completion(prompt)\n",
        "\n",
        "from IPython.display import display, Markdown, Latex, HTML, JSON\n",
        "display(HTML(response))"
      ],
      "metadata": {
        "colab": {
          "base_uri": "https://localhost:8080/",
          "height": 203
        },
        "id": "U3F_f20Jmvxm",
        "outputId": "35c55457-0125-47e0-877f-d79359c5ef02"
      },
      "execution_count": null,
      "outputs": [
        {
          "output_type": "display_data",
          "data": {
            "text/plain": [
              "<IPython.core.display.HTML object>"
            ],
            "text/html": [
              "<!DOCTYPE html>\n",
              "<html>\n",
              "<head>\n",
              "<style>\n",
              "table {\n",
              "  font-family: arial, sans-serif;\n",
              "  border-collapse: collapse;\n",
              "  width: 100%;\n",
              "}\n",
              "\n",
              "td, th {\n",
              "  border: 1px solid #dddddd;\n",
              "  text-align: left;\n",
              "  padding: 8px;\n",
              "}\n",
              "\n",
              "tr:nth-child(even) {\n",
              "  background-color: #dddddd;\n",
              "}\n",
              "</style>\n",
              "</head>\n",
              "<body>\n",
              "\n",
              "<h2>Restaurant Employees</h2>\n",
              "\n",
              "<table>\n",
              "  <tr>\n",
              "    <th>Name</th>\n",
              "    <th>Email</th>\n",
              "  </tr>\n",
              "  <tr>\n",
              "    <td>Shyam</td>\n",
              "    <td>shyamjaiswal@gmail.com</td>\n",
              "  </tr>\n",
              "  <tr>\n",
              "    <td>Bob</td>\n",
              "    <td>bob32@gmail.com</td>\n",
              "  </tr>\n",
              "  <tr>\n",
              "    <td>Jai</td>\n",
              "    <td>jai87@gmail.com</td>\n",
              "  </tr>\n",
              "</table>\n",
              "\n",
              "</body>\n",
              "</html>"
            ]
          },
          "metadata": {}
        }
      ]
    },
    {
      "cell_type": "markdown",
      "source": [
        "## Simple Applications"
      ],
      "metadata": {
        "id": "3BQiy7Wnnyaf"
      }
    },
    {
      "cell_type": "code",
      "source": [
        "# review for a blender\n",
        "review = f\"\"\"\n",
        "So, they still had the 17 piece system on seasonal \\\n",
        "sale for around $49 in the month of November, about \\\n",
        "half off, but for some reason (call it price gouging) \\\n",
        "around the second week of December the prices all went \\\n",
        "up to about anywhere from between $70-$89 for the same \\\n",
        "system. And the 11 piece system went up around $10 or \\\n",
        "so in price also from the earlier sale price of $29. \\\n",
        "So it looks okay, but if you look at the base, the part \\\n",
        "where the blade locks into place doesn’t look as good \\\n",
        "as in previous editions from a few years ago, but I \\\n",
        "plan to be very gentle with it (example, I crush \\\n",
        "very hard items like beans, ice, rice, etc. in the \\\n",
        "blender first then pulverize them in the serving size \\\n",
        "I want in the blender then switch to the whipping \\\n",
        "blade for a finer flour, and use the cross cutting blade \\\n",
        "first when making smoothies, then use the flat blade \\\n",
        "if I need them finer/less pulpy). Special tip when making \\\n",
        "smoothies, finely cut and freeze the fruits and \\\n",
        "vegetables (if using spinach-lightly stew soften the \\\n",
        "spinach then freeze until ready for use-and if making \\\n",
        "sorbet, use a small to medium sized food processor) \\\n",
        "that you plan to use that way you can avoid adding so \\\n",
        "much ice if at all-when making your smoothie. \\\n",
        "After about a year, the motor was making a funny noise. \\\n",
        "I called customer service but the warranty expired \\\n",
        "already, so I had to buy another one. FYI: The overall \\\n",
        "quality has gone done in these types of products, so \\\n",
        "they are kind of counting on brand recognition and \\\n",
        "consumer loyalty to maintain sales. Got it in about \\\n",
        "two days.\n",
        "\"\"\""
      ],
      "metadata": {
        "id": "1pCCMz0InL5j"
      },
      "execution_count": null,
      "outputs": []
    },
    {
      "cell_type": "code",
      "source": [
        "prompt = f\"\"\"\n",
        "Specify whether provided product review has positive or negative sentiment.\\\n",
        "The review is delimited using triple backticks.\n",
        "Give your answer using only one work \\\"Positive\\\" or \\\"Negative\"\\.\n",
        "\n",
        "Review = ```{review}```\n",
        "\"\"\"\n",
        "sentiment = get_completion(prompt)\n",
        "print(sentiment)"
      ],
      "metadata": {
        "colab": {
          "base_uri": "https://localhost:8080/"
        },
        "id": "5s9VaT_ynMW6",
        "outputId": "ec355715-1e6e-4ad7-f1f6-aabe9f0fc54b"
      },
      "execution_count": null,
      "outputs": [
        {
          "output_type": "stream",
          "name": "stdout",
          "text": [
            "Negative\n"
          ]
        }
      ]
    },
    {
      "cell_type": "code",
      "source": [
        "prompt = f\"\"\"\n",
        "You are a customer service AI assistant.\n",
        "Your task is to send an email reply to a valued customer.\n",
        "Given the customer email delimited by ```, \\\n",
        "Generate a reply to thank the customer for their review.\n",
        "If the sentiment is positive, thank them for \\\n",
        "their review.\n",
        "If the sentiment is negative, apologize and suggest that \\\n",
        "they can reach out to customer service.\n",
        "Make sure to use specific details from the review.\n",
        "Write in a concise and professional tone.\n",
        "Sign the email as `AI customer agent`.\n",
        "Customer review: ```{review}```\n",
        "Review sentiment: {sentiment}\n",
        "\"\"\"\n",
        "response = get_completion(prompt)\n",
        "print(response)"
      ],
      "metadata": {
        "colab": {
          "base_uri": "https://localhost:8080/"
        },
        "id": "zjlswBUenMbo",
        "outputId": "4f6241a5-3cd1-4d75-fd94-9e9dd147b0f3"
      },
      "execution_count": null,
      "outputs": [
        {
          "output_type": "stream",
          "name": "stdout",
          "text": [
            "Dear Valued Customer,\n",
            "\n",
            "Thank you for taking the time to share your review with us. We appreciate your feedback and apologize for any inconvenience you may have experienced.\n",
            "\n",
            "We are sorry to hear about the price increase you noticed in December. We strive to provide competitive pricing for our products, and we understand your frustration. If you have any further concerns regarding pricing or any other issues, please feel free to reach out to our customer service team. They will be more than happy to assist you.\n",
            "\n",
            "We also appreciate your feedback regarding the base of the system. We constantly strive to improve the quality of our products, and your comments will be taken into consideration for future enhancements.\n",
            "\n",
            "We apologize for any inconvenience caused by the motor issue you encountered. Our customer service team is always available to assist with any warranty-related concerns. We understand that the warranty had expired, but we would still like to address this matter further. Please contact our customer service team, and they will be able to provide you with further assistance.\n",
            "\n",
            "Thank you once again for your review. We value your feedback and will continue to work towards providing the best possible experience for our customers.\n",
            "\n",
            "Best regards,\n",
            "\n",
            "AI customer agent\n"
          ]
        }
      ]
    }
  ]
}